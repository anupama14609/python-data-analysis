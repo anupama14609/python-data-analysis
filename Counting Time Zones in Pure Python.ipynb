{
 "cells": [
  {
   "cell_type": "code",
   "execution_count": 1,
   "id": "75a1a7d1",
   "metadata": {},
   "outputs": [],
   "source": [
    "import json\n",
    "path = 'E:\\Python For Data Analysis @220921\\data\\\\usa_bitly.txt'\n",
    "records = [json.loads(line) for line in open(path)]\n"
   ]
  },
  {
   "cell_type": "code",
   "execution_count": 2,
   "id": "b65a8799",
   "metadata": {},
   "outputs": [],
   "source": [
    "#extract a list of time zones using a list comprehension:\n",
    "time_zones = [rec['tz'] for rec in records if 'tz' in rec]\n",
    "time_zones;"
   ]
  },
  {
   "cell_type": "code",
   "execution_count": 3,
   "id": "71306e76",
   "metadata": {},
   "outputs": [
    {
     "data": {
      "text/plain": [
       "{'America/New_York': 1251,\n",
       " 'America/Denver': 191,\n",
       " 'America/Sao_Paulo': 33,\n",
       " 'Europe/Warsaw': 16,\n",
       " '': 521,\n",
       " 'America/Los_Angeles': 382,\n",
       " 'Asia/Hong_Kong': 10,\n",
       " 'Europe/Rome': 27,\n",
       " 'Africa/Ceuta': 2,\n",
       " 'Europe/Madrid': 35,\n",
       " 'Asia/Kuala_Lumpur': 3,\n",
       " 'Asia/Nicosia': 1,\n",
       " 'Europe/London': 74,\n",
       " 'Pacific/Honolulu': 36,\n",
       " 'America/Chicago': 400,\n",
       " 'Europe/Malta': 2,\n",
       " 'Europe/Lisbon': 8,\n",
       " 'Europe/Paris': 14,\n",
       " 'Europe/Copenhagen': 5,\n",
       " 'America/Mazatlan': 1,\n",
       " 'Europe/Dublin': 3,\n",
       " 'Europe/Brussels': 4,\n",
       " 'America/Vancouver': 12,\n",
       " 'Europe/Amsterdam': 22,\n",
       " 'Europe/Prague': 10,\n",
       " 'Europe/Stockholm': 14,\n",
       " 'America/Anchorage': 5,\n",
       " 'Asia/Bangkok': 6,\n",
       " 'Europe/Berlin': 28,\n",
       " 'America/Rainy_River': 25,\n",
       " 'Europe/Budapest': 5,\n",
       " 'Asia/Tokyo': 37,\n",
       " 'Europe/Vienna': 6,\n",
       " 'America/Phoenix': 20,\n",
       " 'Asia/Jerusalem': 3,\n",
       " 'Asia/Karachi': 3,\n",
       " 'America/Bogota': 3,\n",
       " 'America/Indianapolis': 20,\n",
       " 'America/Montreal': 9,\n",
       " 'Asia/Calcutta': 9,\n",
       " 'Europe/Skopje': 1,\n",
       " 'Asia/Beirut': 4,\n",
       " 'Australia/NSW': 6,\n",
       " 'Chile/Continental': 6,\n",
       " 'America/Halifax': 4,\n",
       " 'America/Edmonton': 6,\n",
       " 'Europe/Bratislava': 3,\n",
       " 'America/Recife': 2,\n",
       " 'Africa/Cairo': 3,\n",
       " 'Asia/Istanbul': 9,\n",
       " 'Asia/Novosibirsk': 1,\n",
       " 'Europe/Moscow': 10,\n",
       " 'Europe/Sofia': 1,\n",
       " 'Europe/Ljubljana': 1,\n",
       " 'America/Mexico_City': 15,\n",
       " 'Europe/Helsinki': 10,\n",
       " 'Europe/Bucharest': 4,\n",
       " 'Europe/Zurich': 4,\n",
       " 'America/Puerto_Rico': 10,\n",
       " 'America/Monterrey': 1,\n",
       " 'Europe/Athens': 6,\n",
       " 'America/Winnipeg': 4,\n",
       " 'Europe/Riga': 2,\n",
       " 'America/Argentina/Buenos_Aires': 1,\n",
       " 'Asia/Dubai': 4,\n",
       " 'Europe/Oslo': 10,\n",
       " 'Asia/Yekaterinburg': 1,\n",
       " 'Asia/Manila': 1,\n",
       " 'America/Caracas': 1,\n",
       " 'Asia/Riyadh': 1,\n",
       " 'America/Montevideo': 1,\n",
       " 'America/Argentina/Mendoza': 1,\n",
       " 'Asia/Seoul': 5,\n",
       " 'Europe/Uzhgorod': 1,\n",
       " 'Australia/Queensland': 1,\n",
       " 'Europe/Belgrade': 2,\n",
       " 'America/Costa_Rica': 1,\n",
       " 'America/Lima': 1,\n",
       " 'Asia/Pontianak': 1,\n",
       " 'America/Chihuahua': 2,\n",
       " 'Europe/Vilnius': 2,\n",
       " 'America/Managua': 3,\n",
       " 'Africa/Lusaka': 1,\n",
       " 'America/Guayaquil': 2,\n",
       " 'Asia/Harbin': 3,\n",
       " 'Asia/Amman': 2,\n",
       " 'Africa/Johannesburg': 1,\n",
       " 'America/St_Kitts': 1,\n",
       " 'Pacific/Auckland': 11,\n",
       " 'America/Santo_Domingo': 1,\n",
       " 'America/Argentina/Cordoba': 1,\n",
       " 'Asia/Kuching': 1,\n",
       " 'Europe/Volgograd': 1,\n",
       " 'America/La_Paz': 1,\n",
       " 'Africa/Casablanca': 1,\n",
       " 'Asia/Jakarta': 3,\n",
       " 'America/Tegucigalpa': 1}"
      ]
     },
     "execution_count": 3,
     "metadata": {},
     "output_type": "execute_result"
    }
   ],
   "source": [
    "#produce counts of time zones using dict() - full list\n",
    "def get_counts_dict(sequence):\n",
    "    counts = {}  \n",
    "    for x in sequence:\n",
    "        if x in counts:\n",
    "            counts[x] +=1\n",
    "        else:\n",
    "            counts[x] = 1         \n",
    "    return counts\n",
    "\n",
    "get_counts_dict(time_zones)"
   ]
  },
  {
   "cell_type": "code",
   "execution_count": 4,
   "id": "2d83115a",
   "metadata": {},
   "outputs": [
    {
     "data": {
      "text/plain": [
       "{'America/New_York': 1}"
      ]
     },
     "execution_count": 4,
     "metadata": {},
     "output_type": "execute_result"
    }
   ],
   "source": [
    "#produce counts of time zones using dict() - one key:value pair of dict\n",
    "def get_counts_one(sequence):\n",
    "    counts = {}\n",
    "    for x in sequence:\n",
    "        if x in counts:\n",
    "            counts[x] +=1\n",
    "        else:\n",
    "            counts[x]=1\n",
    "        return counts\n",
    "    \n",
    "get_counts_one(time_zones)"
   ]
  },
  {
   "cell_type": "code",
   "execution_count": 5,
   "id": "34dde082",
   "metadata": {},
   "outputs": [],
   "source": [
    "#produce counts of time zones using python standard library\n",
    "\n",
    "from collections import defaultdict\n",
    "def get_counts_psl(sequence):\n",
    "    counts = defaultdict(int)  \n",
    "    for x in sequence:\n",
    "        counts[x]+=1\n",
    "        \n",
    "    return counts\n",
    "\n",
    "get_counts_psl(time_zones);"
   ]
  },
  {
   "cell_type": "code",
   "execution_count": 6,
   "id": "e49971a8",
   "metadata": {},
   "outputs": [
    {
     "ename": "NameError",
     "evalue": "name 'counts' is not defined",
     "output_type": "error",
     "traceback": [
      "\u001b[1;31m---------------------------------------------------------------------------\u001b[0m",
      "\u001b[1;31mNameError\u001b[0m                                 Traceback (most recent call last)",
      "\u001b[1;32m~\\AppData\\Local\\Temp/ipykernel_8228/96533696.py\u001b[0m in \u001b[0;36m<module>\u001b[1;34m\u001b[0m\n\u001b[0;32m      1\u001b[0m \u001b[1;31m#get counts of particular column value - function call\u001b[0m\u001b[1;33m\u001b[0m\u001b[1;33m\u001b[0m\u001b[1;33m\u001b[0m\u001b[0m\n\u001b[0;32m      2\u001b[0m \u001b[0mcounts_psl\u001b[0m \u001b[1;33m=\u001b[0m \u001b[0mget_counts_psl\u001b[0m\u001b[1;33m(\u001b[0m\u001b[0mtime_zones\u001b[0m\u001b[1;33m)\u001b[0m\u001b[1;33m\u001b[0m\u001b[1;33m\u001b[0m\u001b[0m\n\u001b[1;32m----> 3\u001b[1;33m \u001b[0mcounts\u001b[0m\u001b[1;33m[\u001b[0m\u001b[1;34m'America/New_York'\u001b[0m\u001b[1;33m]\u001b[0m\u001b[1;33m\u001b[0m\u001b[1;33m\u001b[0m\u001b[0m\n\u001b[0m\u001b[0;32m      4\u001b[0m \u001b[1;33m\u001b[0m\u001b[0m\n\u001b[0;32m      5\u001b[0m \u001b[0mcounts_dict\u001b[0m \u001b[1;33m=\u001b[0m \u001b[0mget_counts_dict\u001b[0m\u001b[1;33m(\u001b[0m\u001b[0mtime_zones\u001b[0m\u001b[1;33m)\u001b[0m\u001b[1;33m\u001b[0m\u001b[1;33m\u001b[0m\u001b[0m\n",
      "\u001b[1;31mNameError\u001b[0m: name 'counts' is not defined"
     ]
    }
   ],
   "source": [
    "#get counts of particular column value - function call\n",
    "counts_psl = get_counts_psl(time_zones)\n",
    "counts['America/New_York']\n",
    "\n",
    "counts_dict = get_counts_dict(time_zones)\n",
    "counts_dict\n",
    "\n",
    "counts_one = get_counts_one(time_zones)\n",
    "counts_one"
   ]
  },
  {
   "cell_type": "code",
   "execution_count": null,
   "id": "a5aa0ddd",
   "metadata": {},
   "outputs": [],
   "source": [
    "#calculate length of time_zone\n",
    "len(time_zones)"
   ]
  },
  {
   "cell_type": "code",
   "execution_count": null,
   "id": "5196d853",
   "metadata": {},
   "outputs": [],
   "source": [
    "# top 10 time zones and their counts -  not working\n",
    "def top_counts(count_dict, n=10):\n",
    "    value_key_pairs = [(count, tz) for tz, count in count_dict.items()]\n",
    "    value_key_pairs.sort()\n",
    "    return value_key_pairs[-n:]\n",
    "\n",
    "# top 10 time zones and their counts -  using python standard library\n",
    "from collections import Counter\n",
    "counts = Counter(time_zones)\n",
    "counts.most_common(10)"
   ]
  },
  {
   "cell_type": "code",
   "execution_count": null,
   "id": "bc38e269",
   "metadata": {},
   "outputs": [],
   "source": [
    "import pandas as pd\n",
    "import matplotlib.pyplot as plt\n",
    "frame = pd.DataFrame(records)\n",
    "frame.count\n",
    "frame['tz'][:10]\n",
    "\n",
    "#time_zones - missing value treatment\n",
    "clean_tz = frame['tz'].fillna('Missing')\n",
    "\n",
    "#time_zones - space cleaning\n",
    "clean_tz[clean_tz == ''] = 'Unknown'\n",
    "count_tz = clean_tz.value_counts()\n",
    "count_tz[:10]\n",
    "\n",
    "#Draw Plot - Default\n",
    "count_tz[:10].plot(kind='bar', rot=0, figsize=(10,6))\n"
   ]
  },
  {
   "cell_type": "code",
   "execution_count": null,
   "id": "56fbbb3f",
   "metadata": {},
   "outputs": [],
   "source": [
    "#access field contains information about the browser, device or application used to perform the URL shortening:\n",
    "frame['a'][1]\n",
    "frame['a'][50]"
   ]
  },
  {
   "cell_type": "code",
   "execution_count": null,
   "id": "4f340229",
   "metadata": {},
   "outputs": [],
   "source": [
    "from pandas import Series\n",
    "#split off the token/tokens in the string (corresponding roughly to the browser capability) and make \n",
    "#another summary of the user behavior:\n",
    "results = Series([x.split() for x in frame.a.dropna()]) #strings in column 'a'\n",
    "results = Series([x.split()[0] for x in frame.a.dropna()])  #first token of string in column 'a'\n",
    "results = Series([x.split()[:5] for x in frame.a.dropna()]) #first one to 4 token of string\n",
    "results[:10];\n",
    "\n",
    "#counts the values of results\n",
    "result_count = Series([x.split()[0] for x in frame.a.dropna()])\n",
    "result_count.value_counts();\n",
    "\n",
    "#decompose the top time zones into Windows and nonWindows users \n",
    "import numpy as np\n",
    "notnull_frame = frame[frame.a.notnull()]  #removing Nan from column 'a'\n",
    "operating_system = np.where(notnull_frame['a'].str.contains('Windows'), 'Windows ', 'Not Windows ') # compute a value whether each row is Windows or not:\n",
    "by_tz_os = notnull_frame.groupby(['tz', operating_system]); # group the data by its time zone column\n",
    "\n",
    "#group counts is analogous to the value_counts that can be computed using size() \n",
    "#followed by reshaping into table with unstack()\n",
    "agg_count = by_tz_os.size().unstack().fillna(0)\n",
    "agg_count;\n",
    "\n",
    "indexer = agg_count.sum(1).argsort() #indirect index array from the row counts in agg_counts then sort:\n",
    "count_subset = agg_count.take(indexer)[-10:] #take to select the rows in that order,\n",
    "count_subset.plot(kind='barh', rot=0, stacked=True)\n",
    "\n",
    "#The plot doesn’t make it easy to see the relative percentage of Windows users in the smaller groups, but the rows can \n",
    "#easily be normalized to sum to 1 then plotted again\n",
    "normed_subset = count_subset.div(count_subset.sum(1), axis=0)\n",
    "normed_subset.plot(kind='barh', stacked=True)\n"
   ]
  },
  {
   "cell_type": "code",
   "execution_count": null,
   "id": "577ad532",
   "metadata": {},
   "outputs": [],
   "source": []
  },
  {
   "cell_type": "code",
   "execution_count": null,
   "id": "6e0014e4",
   "metadata": {},
   "outputs": [],
   "source": []
  },
  {
   "cell_type": "code",
   "execution_count": null,
   "id": "1f098830",
   "metadata": {},
   "outputs": [],
   "source": []
  },
  {
   "cell_type": "code",
   "execution_count": null,
   "id": "06156d62",
   "metadata": {},
   "outputs": [],
   "source": []
  }
 ],
 "metadata": {
  "kernelspec": {
   "display_name": "Python 3 (ipykernel)",
   "language": "python",
   "name": "python3"
  },
  "language_info": {
   "codemirror_mode": {
    "name": "ipython",
    "version": 3
   },
   "file_extension": ".py",
   "mimetype": "text/x-python",
   "name": "python",
   "nbconvert_exporter": "python",
   "pygments_lexer": "ipython3",
   "version": "3.9.6"
  }
 },
 "nbformat": 4,
 "nbformat_minor": 5
}
